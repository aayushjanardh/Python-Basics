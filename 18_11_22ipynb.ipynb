{
  "nbformat": 4,
  "nbformat_minor": 0,
  "metadata": {
    "colab": {
      "provenance": [],
      "authorship_tag": "ABX9TyNjpeOLSo5jlBrOsq/pBZe7",
      "include_colab_link": true
    },
    "kernelspec": {
      "name": "python3",
      "display_name": "Python 3"
    },
    "language_info": {
      "name": "python"
    }
  },
  "cells": [
    {
      "cell_type": "markdown",
      "metadata": {
        "id": "view-in-github",
        "colab_type": "text"
      },
      "source": [
        "<a href=\"https://colab.research.google.com/github/aayushjanardh/Python-Basics/blob/main/18_11_22ipynb.ipynb\" target=\"_parent\"><img src=\"https://colab.research.google.com/assets/colab-badge.svg\" alt=\"Open In Colab\"/></a>"
      ]
    },
    {
      "cell_type": "code",
      "execution_count": 5,
      "metadata": {
        "id": "1YX0-KF-1WJ0"
      },
      "outputs": [],
      "source": [
        "num=2"
      ]
    },
    {
      "cell_type": "code",
      "source": [
        "type(num)"
      ],
      "metadata": {
        "colab": {
          "base_uri": "https://localhost:8080/"
        },
        "id": "FE47x6_52vXX",
        "outputId": "e0f1837b-bbd9-4561-a056-54be86002ba3"
      },
      "execution_count": 6,
      "outputs": [
        {
          "output_type": "execute_result",
          "data": {
            "text/plain": [
              "int"
            ]
          },
          "metadata": {},
          "execution_count": 6
        }
      ]
    },
    {
      "cell_type": "code",
      "source": [
        "num=10.56"
      ],
      "metadata": {
        "id": "AM4TAXeO3Atg"
      },
      "execution_count": 7,
      "outputs": []
    },
    {
      "cell_type": "code",
      "source": [
        "type(num)"
      ],
      "metadata": {
        "colab": {
          "base_uri": "https://localhost:8080/"
        },
        "id": "ebo96SJh3QPY",
        "outputId": "ab260a43-91e0-4a92-9487-d7af85e99ea6"
      },
      "execution_count": 8,
      "outputs": [
        {
          "output_type": "execute_result",
          "data": {
            "text/plain": [
              "float"
            ]
          },
          "metadata": {},
          "execution_count": 8
        }
      ]
    },
    {
      "cell_type": "code",
      "source": [
        "num1=10\n",
        "num2=56.8\n",
        "type(num1+num2)"
      ],
      "metadata": {
        "colab": {
          "base_uri": "https://localhost:8080/"
        },
        "id": "GV7m5ka33SYY",
        "outputId": "eb2cf7f9-a59e-4a5d-d27b-085344c3144a"
      },
      "execution_count": 10,
      "outputs": [
        {
          "output_type": "execute_result",
          "data": {
            "text/plain": [
              "float"
            ]
          },
          "metadata": {},
          "execution_count": 10
        }
      ]
    },
    {
      "cell_type": "code",
      "source": [
        "c= 10+5j"
      ],
      "metadata": {
        "id": "kYhmUXcw3n6Z"
      },
      "execution_count": 11,
      "outputs": []
    },
    {
      "cell_type": "code",
      "source": [
        "type(c)"
      ],
      "metadata": {
        "colab": {
          "base_uri": "https://localhost:8080/"
        },
        "id": "vPD41viW4IPJ",
        "outputId": "474b6d66-2755-4b6c-94bb-4ad58398c6e6"
      },
      "execution_count": 12,
      "outputs": [
        {
          "output_type": "execute_result",
          "data": {
            "text/plain": [
              "complex"
            ]
          },
          "metadata": {},
          "execution_count": 12
        }
      ]
    },
    {
      "cell_type": "code",
      "source": [
        "name=\"aayush\""
      ],
      "metadata": {
        "id": "pKaPavL84KDh"
      },
      "execution_count": 13,
      "outputs": []
    },
    {
      "cell_type": "code",
      "source": [
        "type(name)"
      ],
      "metadata": {
        "colab": {
          "base_uri": "https://localhost:8080/"
        },
        "id": "8zO-yxg04X0f",
        "outputId": "20327f82-2e62-4953-adb4-54a42c75b6b0"
      },
      "execution_count": 14,
      "outputs": [
        {
          "output_type": "execute_result",
          "data": {
            "text/plain": [
              "str"
            ]
          },
          "metadata": {},
          "execution_count": 14
        }
      ]
    },
    {
      "cell_type": "code",
      "source": [
        "msg=\"kill your self\""
      ],
      "metadata": {
        "id": "CmnVqEvZ4a-X"
      },
      "execution_count": 48,
      "outputs": []
    },
    {
      "cell_type": "code",
      "source": [
        "type(msg)"
      ],
      "metadata": {
        "colab": {
          "base_uri": "https://localhost:8080/"
        },
        "id": "0riT4Rdg4gpH",
        "outputId": "7be64b07-176c-4a5e-dfb5-614f129e57ba"
      },
      "execution_count": 16,
      "outputs": [
        {
          "output_type": "execute_result",
          "data": {
            "text/plain": [
              "str"
            ]
          },
          "metadata": {},
          "execution_count": 16
        }
      ]
    },
    {
      "cell_type": "code",
      "source": [
        "friends=[\"loneliness\",\"anxiety\",\"pressure\",\"depression\",\"voices in my head\"]"
      ],
      "metadata": {
        "id": "0_xHE6YU4jdH"
      },
      "execution_count": 57,
      "outputs": []
    },
    {
      "cell_type": "code",
      "source": [
        "type(friends)"
      ],
      "metadata": {
        "colab": {
          "base_uri": "https://localhost:8080/"
        },
        "id": "Sdr-oNaQ5CtY",
        "outputId": "2016ac55-4748-4b01-ed3a-f7a4e853013b"
      },
      "execution_count": 23,
      "outputs": [
        {
          "output_type": "execute_result",
          "data": {
            "text/plain": [
              "tuple"
            ]
          },
          "metadata": {},
          "execution_count": 23
        }
      ]
    },
    {
      "cell_type": "code",
      "source": [
        "print(friends[1])"
      ],
      "metadata": {
        "colab": {
          "base_uri": "https://localhost:8080/"
        },
        "id": "GHKfMxn_5a69",
        "outputId": "b29dddc4-1397-41f3-909b-2d924427e793"
      },
      "execution_count": 24,
      "outputs": [
        {
          "output_type": "stream",
          "name": "stdout",
          "text": [
            "anxiety\n"
          ]
        }
      ]
    },
    {
      "cell_type": "code",
      "source": [
        "print(friends[0])"
      ],
      "metadata": {
        "colab": {
          "base_uri": "https://localhost:8080/"
        },
        "id": "zmB370kJ6Ooq",
        "outputId": "4e52409c-261e-473a-ca80-a39de87bb704"
      },
      "execution_count": 27,
      "outputs": [
        {
          "output_type": "stream",
          "name": "stdout",
          "text": [
            "loneliness\n"
          ]
        }
      ]
    },
    {
      "cell_type": "code",
      "source": [
        "print(friends[4])"
      ],
      "metadata": {
        "colab": {
          "base_uri": "https://localhost:8080/"
        },
        "id": "DjudwEIU6tap",
        "outputId": "c0310ebd-083d-4b98-b021-a0d7eb674f93"
      },
      "execution_count": 28,
      "outputs": [
        {
          "output_type": "stream",
          "name": "stdout",
          "text": [
            "voices in my head\n"
          ]
        }
      ]
    },
    {
      "cell_type": "code",
      "source": [
        "oldfriends=[\"happiness\",\"blissfulness\",\"joy\"]"
      ],
      "metadata": {
        "id": "lzw6-LSw64KK"
      },
      "execution_count": 30,
      "outputs": []
    },
    {
      "cell_type": "code",
      "source": [
        "oldfriends.pop(2)"
      ],
      "metadata": {
        "colab": {
          "base_uri": "https://localhost:8080/",
          "height": 35
        },
        "id": "08GiZox37MYq",
        "outputId": "7220a988-334e-4eaf-9624-762c29d2f99b"
      },
      "execution_count": 43,
      "outputs": [
        {
          "output_type": "execute_result",
          "data": {
            "text/plain": [
              "'joy'"
            ],
            "application/vnd.google.colaboratory.intrinsic+json": {
              "type": "string"
            }
          },
          "metadata": {},
          "execution_count": 43
        }
      ]
    },
    {
      "cell_type": "code",
      "source": [
        "print(oldfriends)"
      ],
      "metadata": {
        "colab": {
          "base_uri": "https://localhost:8080/"
        },
        "id": "p_B3ccaf8LZL",
        "outputId": "cce4855b-2913-4059-807a-d67d782b5a55"
      },
      "execution_count": 44,
      "outputs": [
        {
          "output_type": "stream",
          "name": "stdout",
          "text": [
            "['happiness', 'blissfulness']\n"
          ]
        }
      ]
    },
    {
      "cell_type": "code",
      "source": [
        "oldfriends.append(\"joy\")"
      ],
      "metadata": {
        "id": "tYJ6wopt83ay"
      },
      "execution_count": 46,
      "outputs": []
    },
    {
      "cell_type": "code",
      "source": [
        "print(oldfriends)"
      ],
      "metadata": {
        "colab": {
          "base_uri": "https://localhost:8080/"
        },
        "id": "5an0VnDf-DGB",
        "outputId": "2cdf073f-ab72-4b05-a15f-57379ce87031"
      },
      "execution_count": 47,
      "outputs": [
        {
          "output_type": "stream",
          "name": "stdout",
          "text": [
            "['happiness', 'blissfulness', 'joy']\n"
          ]
        }
      ]
    },
    {
      "cell_type": "code",
      "source": [
        "oldfriends.sort()"
      ],
      "metadata": {
        "id": "Cf1NCCrm-JuY"
      },
      "execution_count": 50,
      "outputs": []
    },
    {
      "cell_type": "code",
      "source": [
        "print(oldfriends)"
      ],
      "metadata": {
        "colab": {
          "base_uri": "https://localhost:8080/"
        },
        "id": "dojQYWuh-2J5",
        "outputId": "dda2e473-7a31-42d0-a75f-487a9acf2ca4"
      },
      "execution_count": 51,
      "outputs": [
        {
          "output_type": "stream",
          "name": "stdout",
          "text": [
            "['blissfulness', 'happiness', 'joy']\n"
          ]
        }
      ]
    },
    {
      "cell_type": "code",
      "source": [
        "oldfriends.reverse()"
      ],
      "metadata": {
        "id": "KtL_98qO-9gh"
      },
      "execution_count": 52,
      "outputs": []
    },
    {
      "cell_type": "code",
      "source": [
        "print(oldfriends)"
      ],
      "metadata": {
        "colab": {
          "base_uri": "https://localhost:8080/"
        },
        "id": "a0vw_qh-_Z7p",
        "outputId": "482e84a6-0519-4abb-ee15-37c275a64b42"
      },
      "execution_count": 53,
      "outputs": [
        {
          "output_type": "stream",
          "name": "stdout",
          "text": [
            "['joy', 'happiness', 'blissfulness']\n"
          ]
        }
      ]
    },
    {
      "cell_type": "code",
      "source": [
        "oldfriends.insert(2,\"good sleep\")"
      ],
      "metadata": {
        "id": "HROuyWlP_dhB"
      },
      "execution_count": 54,
      "outputs": []
    },
    {
      "cell_type": "code",
      "source": [
        "print(oldfriends)"
      ],
      "metadata": {
        "colab": {
          "base_uri": "https://localhost:8080/"
        },
        "id": "iIpK0zQKA0C1",
        "outputId": "e230932a-7a0e-42ca-8ab5-cedb19dcb72a"
      },
      "execution_count": 55,
      "outputs": [
        {
          "output_type": "stream",
          "name": "stdout",
          "text": [
            "['joy', 'happiness', 'good sleep', 'blissfulness']\n"
          ]
        }
      ]
    },
    {
      "cell_type": "code",
      "source": [
        "friends+oldfriends"
      ],
      "metadata": {
        "colab": {
          "base_uri": "https://localhost:8080/"
        },
        "id": "ytLH7jP8A2Lg",
        "outputId": "397756d1-20c4-49d1-c9f3-765b070b7fa5"
      },
      "execution_count": 58,
      "outputs": [
        {
          "output_type": "execute_result",
          "data": {
            "text/plain": [
              "['loneliness',\n",
              " 'anxiety',\n",
              " 'pressure',\n",
              " 'depression',\n",
              " 'voices in my head',\n",
              " 'joy',\n",
              " 'happiness',\n",
              " 'good sleep',\n",
              " 'blissfulness']"
            ]
          },
          "metadata": {},
          "execution_count": 58
        }
      ]
    },
    {
      "cell_type": "code",
      "source": [
        "tuple_items=(\"India\",\"Australia\",\"Pakistan\",\"Afganisthan\")"
      ],
      "metadata": {
        "id": "erY_irWUBXeI"
      },
      "execution_count": 59,
      "outputs": []
    },
    {
      "cell_type": "code",
      "source": [
        "h= {1,2,3,3,7,15,25,3.5}"
      ],
      "metadata": {
        "id": "mGm1qyd2DwDq"
      },
      "execution_count": 60,
      "outputs": []
    },
    {
      "cell_type": "code",
      "source": [
        "type(h)"
      ],
      "metadata": {
        "colab": {
          "base_uri": "https://localhost:8080/"
        },
        "id": "PJs4qAj5F08V",
        "outputId": "c8162ec6-b74b-4dd1-cfe0-25ca2f6cd7d5"
      },
      "execution_count": 61,
      "outputs": [
        {
          "output_type": "execute_result",
          "data": {
            "text/plain": [
              "set"
            ]
          },
          "metadata": {},
          "execution_count": 61
        }
      ]
    },
    {
      "cell_type": "code",
      "source": [
        "marks=[10,20,20,30,40]"
      ],
      "metadata": {
        "id": "RoBpSOCqF3Cl"
      },
      "execution_count": 62,
      "outputs": []
    },
    {
      "cell_type": "code",
      "source": [
        "set1=set(marks)"
      ],
      "metadata": {
        "id": "Wt8IG5PXF7vM"
      },
      "execution_count": 63,
      "outputs": []
    },
    {
      "cell_type": "code",
      "source": [
        "print(set1)"
      ],
      "metadata": {
        "colab": {
          "base_uri": "https://localhost:8080/"
        },
        "id": "AiS7U4kkGU8M",
        "outputId": "9affccf8-ab62-48d9-bd91-e4afe6ca4b6b"
      },
      "execution_count": 64,
      "outputs": [
        {
          "output_type": "stream",
          "name": "stdout",
          "text": [
            "{40, 10, 20, 30}\n"
          ]
        }
      ]
    },
    {
      "cell_type": "code",
      "source": [
        "dict = {'Name': 'Aayush', 'PH' : '701282XXXX', 'Place' : 'Trivandrum'}"
      ],
      "metadata": {
        "id": "jwB2dSWFGZIy"
      },
      "execution_count": 65,
      "outputs": []
    },
    {
      "cell_type": "code",
      "source": [
        "print(dict)"
      ],
      "metadata": {
        "colab": {
          "base_uri": "https://localhost:8080/"
        },
        "id": "-aysTop9IsRs",
        "outputId": "1b76907d-1594-413c-a663-984de0100afd"
      },
      "execution_count": 66,
      "outputs": [
        {
          "output_type": "stream",
          "name": "stdout",
          "text": [
            "{'Name': 'Aayush', 'PH': '701282XXXX', 'Place': 'Trivandrum'}\n"
          ]
        }
      ]
    },
    {
      "cell_type": "code",
      "source": [
        "dict['year']=2005"
      ],
      "metadata": {
        "id": "3oEAM6wmIuCc"
      },
      "execution_count": 67,
      "outputs": []
    },
    {
      "cell_type": "code",
      "source": [
        "print(dict)"
      ],
      "metadata": {
        "colab": {
          "base_uri": "https://localhost:8080/"
        },
        "id": "abn0u3tvKEOs",
        "outputId": "6cf3e601-c586-4f8e-e09e-df28e4ce5c99"
      },
      "execution_count": 68,
      "outputs": [
        {
          "output_type": "stream",
          "name": "stdout",
          "text": [
            "{'Name': 'Aayush', 'PH': '701282XXXX', 'Place': 'Trivandrum', 'year': 2005}\n"
          ]
        }
      ]
    },
    {
      "cell_type": "code",
      "source": [
        "def add(x,y):\n",
        "  return(x+y)\n",
        "add(2,3)"
      ],
      "metadata": {
        "colab": {
          "base_uri": "https://localhost:8080/"
        },
        "id": "ioc4XWRyKGST",
        "outputId": "434a4899-05c1-4ea0-9203-43217226aca7"
      },
      "execution_count": 69,
      "outputs": [
        {
          "output_type": "execute_result",
          "data": {
            "text/plain": [
              "5"
            ]
          },
          "metadata": {},
          "execution_count": 69
        }
      ]
    },
    {
      "cell_type": "code",
      "source": [
        "def add(x,y,z):\n",
        "  return(x+y+z)\n",
        "add(10,11,12)\n"
      ],
      "metadata": {
        "colab": {
          "base_uri": "https://localhost:8080/"
        },
        "id": "cd7k4DZxKznU",
        "outputId": "a61b790b-40cb-4b24-f70d-3d04f507945f"
      },
      "execution_count": 70,
      "outputs": [
        {
          "output_type": "execute_result",
          "data": {
            "text/plain": [
              "33"
            ]
          },
          "metadata": {},
          "execution_count": 70
        }
      ]
    },
    {
      "cell_type": "code",
      "source": [],
      "metadata": {
        "id": "kcPKBiqhMOe-"
      },
      "execution_count": null,
      "outputs": []
    }
  ]
}