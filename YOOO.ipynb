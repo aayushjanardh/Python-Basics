{
  "nbformat": 4,
  "nbformat_minor": 0,
  "metadata": {
    "colab": {
      "provenance": [],
      "authorship_tag": "ABX9TyMXhhQUJ/8kPuZjXmMzvEJi",
      "include_colab_link": true
    },
    "kernelspec": {
      "name": "python3",
      "display_name": "Python 3"
    },
    "language_info": {
      "name": "python"
    }
  },
  "cells": [
    {
      "cell_type": "markdown",
      "metadata": {
        "id": "view-in-github",
        "colab_type": "text"
      },
      "source": [
        "<a href=\"https://colab.research.google.com/github/aayushjanardh/Python-Basics/blob/main/YOOO.ipynb\" target=\"_parent\"><img src=\"https://colab.research.google.com/assets/colab-badge.svg\" alt=\"Open In Colab\"/></a>"
      ]
    },
    {
      "cell_type": "code",
      "execution_count": 2,
      "metadata": {
        "colab": {
          "base_uri": "https://localhost:8080/"
        },
        "id": "4IS0bm3gnjnD",
        "outputId": "1e38e6e1-fff2-44ab-c8c0-e1e6d9f8cac6"
      },
      "outputs": [
        {
          "output_type": "stream",
          "name": "stdout",
          "text": [
            "Enter Travel Source Trivandrum\n",
            "Enter Travel Destination Ernakulam\n",
            "Number Of Passengers 2\n",
            "Trivandrum Ernakulam 2\n"
          ]
        }
      ],
      "source": [
        "x=input(\"Enter Travel Source \")\n",
        "y=input(\"Enter Travel Destination \")\n",
        "z=int(input(\"Number Of Passengers \"))\n",
        "print(x,y,z)"
      ]
    },
    {
      "cell_type": "code",
      "source": [
        "y=int(input(\"Enter total ticket fare\"))\n",
        "x=int(input(\"Enter number of passengers\"))\n",
        "a=y/x\n",
        "print(\"TICKET FARE PER PERSON\",a)"
      ],
      "metadata": {
        "colab": {
          "base_uri": "https://localhost:8080/"
        },
        "id": "S1p9pCtUohFv",
        "outputId": "6a38fda0-5771-4789-dc29-4eaa5678ec47"
      },
      "execution_count": 9,
      "outputs": [
        {
          "output_type": "stream",
          "name": "stdout",
          "text": [
            "Enter total ticket fare4000\n",
            "Enter number of passengers50\n",
            "TICKET FARE PER PERSON 80.0\n"
          ]
        }
      ]
    },
    {
      "cell_type": "code",
      "source": [
        "x=input(\"Enter your name \")\n",
        "y=int(input(\"Ticket price \"))\n",
        "print(\"Passenger\",x,\"Ticket Fare\",y)"
      ],
      "metadata": {
        "colab": {
          "base_uri": "https://localhost:8080/"
        },
        "id": "ym2CGAFqqU90",
        "outputId": "22341875-2e03-4fb5-a30a-0ee105e00918"
      },
      "execution_count": 12,
      "outputs": [
        {
          "output_type": "stream",
          "name": "stdout",
          "text": [
            "Enter your name Aayush\n",
            "Ticket price 300\n",
            "Passenger Aayush Ticket Fare 300\n"
          ]
        }
      ]
    },
    {
      "cell_type": "code",
      "source": [
        "x=int(input(\"Total ticket fare \"))\n",
        "if x>10000:\n",
        "  print(\"Eligible for discount\")"
      ],
      "metadata": {
        "colab": {
          "base_uri": "https://localhost:8080/"
        },
        "id": "mdRVYPBisW5N",
        "outputId": "92601a97-7222-41a2-859b-ba46d3a7180c"
      },
      "execution_count": 16,
      "outputs": [
        {
          "output_type": "stream",
          "name": "stdout",
          "text": [
            "Total ticket fare 200000\n",
            "Eligible for discount\n"
          ]
        }
      ]
    },
    {
      "cell_type": "code",
      "source": [
        "x=int(input(\"Total ticket fare \"))\n",
        "if x>15000:\n",
        "  print(\"Eligible for 20% discount\")\n",
        "else:\n",
        "  print(\"Eligible for 10% discount\")"
      ],
      "metadata": {
        "colab": {
          "base_uri": "https://localhost:8080/"
        },
        "id": "0bWvladstOC0",
        "outputId": "aa0569ce-0a0a-4d1b-d959-1fd4cd1d2320"
      },
      "execution_count": 17,
      "outputs": [
        {
          "output_type": "stream",
          "name": "stdout",
          "text": [
            "Total ticket fare 30000\n",
            "Eligible for 20% discount\n"
          ]
        }
      ]
    },
    {
      "cell_type": "code",
      "source": [
        "x=int(input(\"Total ticket fare \"))\n",
        "if x>=15000:\n",
        " a=x*20/100\n",
        " print('Discounted fare',x-a)\n",
        "if x>10000 and x<15000:\n",
        "  b=x*15/100\n",
        "  print('Discounted fare',x-b)\n",
        "if x<=10000:\n",
        "  c=x*10/100\n",
        "  print('Discounted fare',x-c)\n"
      ],
      "metadata": {
        "colab": {
          "base_uri": "https://localhost:8080/"
        },
        "id": "bLAFXDjItuWM",
        "outputId": "999caebe-5e66-485b-eab9-cf660d8068b2"
      },
      "execution_count": 39,
      "outputs": [
        {
          "output_type": "stream",
          "name": "stdout",
          "text": [
            "Total ticket fare 9000\n",
            "Discounted fare 8100.0\n"
          ]
        }
      ]
    },
    {
      "cell_type": "code",
      "source": [
        "x=int(input(\"Enter a number\"))\n",
        "if x>0:\n",
        "  print(\"Number is positive\")\n",
        "elif x<0:\n",
        "  print(\"Number is negative\")"
      ],
      "metadata": {
        "colab": {
          "base_uri": "https://localhost:8080/"
        },
        "id": "JBGFk8i4uWD9",
        "outputId": "8bf2e8e3-4328-4033-869c-380a23c4ae01"
      },
      "execution_count": 40,
      "outputs": [
        {
          "output_type": "stream",
          "name": "stdout",
          "text": [
            "Enter a number10\n",
            "Number is positive\n"
          ]
        }
      ]
    },
    {
      "cell_type": "code",
      "source": [
        "x=int(input(\"Enter a number\"))\n",
        "if x>18:\n",
        "  print(\"Adult\")\n",
        "elif x>13 and x<19:\n",
        "  print(\"Teenager\")\n",
        "elif x>6 and x<12:\n",
        "  print(\"kid\")\n",
        "elif x>2 and x<5:\n",
        "  print(\"toddler\")\n",
        "elif x<2:\n",
        "  print(\"infant\")"
      ],
      "metadata": {
        "colab": {
          "base_uri": "https://localhost:8080/"
        },
        "id": "c4s9ygVM1aLz",
        "outputId": "2dc233ec-60ad-4633-bc73-fa6a7fbc24a6"
      },
      "execution_count": 44,
      "outputs": [
        {
          "output_type": "stream",
          "name": "stdout",
          "text": [
            "Enter a number7\n",
            "kid\n"
          ]
        }
      ]
    },
    {
      "cell_type": "code",
      "source": [
        "x=input(\"Enter your initial \")\n",
        "if x in ('a','e','i','o','u'):\n",
        "  print(\"vowel\")\n",
        "else:\n",
        "  print(\"not vowel\")"
      ],
      "metadata": {
        "colab": {
          "base_uri": "https://localhost:8080/"
        },
        "id": "nl2-2byg2n5-",
        "outputId": "1bbcadf4-603e-4e67-d4b5-bfadafa1effe"
      },
      "execution_count": 51,
      "outputs": [
        {
          "output_type": "stream",
          "name": "stdout",
          "text": [
            "Enter your initial a\n",
            "vowel\n"
          ]
        }
      ]
    },
    {
      "cell_type": "code",
      "source": [
        "x=input(\"ENTER YOUR NAME \")\n",
        "for i in x:\n",
        "  print(i)"
      ],
      "metadata": {
        "colab": {
          "base_uri": "https://localhost:8080/"
        },
        "id": "SpnWG4vk4LUv",
        "outputId": "808b7874-911e-4d36-fd06-4ade2bb9438f"
      },
      "execution_count": 52,
      "outputs": [
        {
          "output_type": "stream",
          "name": "stdout",
          "text": [
            "ENTER YOUR NAME aayush\n",
            "a\n",
            "a\n",
            "y\n",
            "u\n",
            "s\n",
            "h\n"
          ]
        }
      ]
    },
    {
      "cell_type": "code",
      "source": [
        "for a in range(44,89,2):\n",
        "  print(a)\n"
      ],
      "metadata": {
        "colab": {
          "base_uri": "https://localhost:8080/"
        },
        "id": "c_vJXeai5ZJf",
        "outputId": "7997e06b-59ed-457a-e6ad-75809a647b51"
      },
      "execution_count": 54,
      "outputs": [
        {
          "output_type": "stream",
          "name": "stdout",
          "text": [
            "44\n",
            "46\n",
            "48\n",
            "50\n",
            "52\n",
            "54\n",
            "56\n",
            "58\n",
            "60\n",
            "62\n",
            "64\n",
            "66\n",
            "68\n",
            "70\n",
            "72\n",
            "74\n",
            "76\n",
            "78\n",
            "80\n",
            "82\n",
            "84\n",
            "86\n",
            "88\n"
          ]
        }
      ]
    },
    {
      "cell_type": "code",
      "source": [
        "a=0\n",
        "for i in range(1,11):\n",
        "  a=a+i\n",
        "  print(a)"
      ],
      "metadata": {
        "colab": {
          "base_uri": "https://localhost:8080/"
        },
        "id": "dDqM9Iu46H5E",
        "outputId": "61260325-7191-40d0-9a6d-a5117e7fa9a2"
      },
      "execution_count": 65,
      "outputs": [
        {
          "output_type": "stream",
          "name": "stdout",
          "text": [
            "1\n",
            "3\n",
            "6\n",
            "10\n",
            "15\n",
            "21\n",
            "28\n",
            "36\n",
            "45\n",
            "55\n"
          ]
        }
      ]
    },
    {
      "cell_type": "code",
      "source": [
        "a=while(aayush,17):\n",
        "  print(a)"
      ],
      "metadata": {
        "colab": {
          "base_uri": "https://localhost:8080/",
          "height": 130
        },
        "id": "ycfPv2NC6lcg",
        "outputId": "240e3462-7707-4508-af38-dd7b0aa15b42"
      },
      "execution_count": 67,
      "outputs": [
        {
          "output_type": "error",
          "ename": "SyntaxError",
          "evalue": "ignored",
          "traceback": [
            "\u001b[0;36m  File \u001b[0;32m\"<ipython-input-67-57db048523c1>\"\u001b[0;36m, line \u001b[0;32m1\u001b[0m\n\u001b[0;31m    a=while(aayush,17):\u001b[0m\n\u001b[0m          ^\u001b[0m\n\u001b[0;31mSyntaxError\u001b[0m\u001b[0;31m:\u001b[0m invalid syntax\n"
          ]
        }
      ]
    },
    {
      "cell_type": "code",
      "source": [],
      "metadata": {
        "id": "DeUVnwx7_Cga"
      },
      "execution_count": null,
      "outputs": []
    }
  ]
}