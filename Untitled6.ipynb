{
  "nbformat": 4,
  "nbformat_minor": 0,
  "metadata": {
    "colab": {
      "provenance": [],
      "authorship_tag": "ABX9TyOLmYDNel4l07+hzM1bGTmr",
      "include_colab_link": true
    },
    "kernelspec": {
      "name": "python3",
      "display_name": "Python 3"
    },
    "language_info": {
      "name": "python"
    }
  },
  "cells": [
    {
      "cell_type": "markdown",
      "metadata": {
        "id": "view-in-github",
        "colab_type": "text"
      },
      "source": [
        "<a href=\"https://colab.research.google.com/github/aayushjanardh/Python-Basics/blob/main/Untitled6.ipynb\" target=\"_parent\"><img src=\"https://colab.research.google.com/assets/colab-badge.svg\" alt=\"Open In Colab\"/></a>"
      ]
    },
    {
      "cell_type": "code",
      "execution_count": null,
      "metadata": {
        "colab": {
          "base_uri": "https://localhost:8080/"
        },
        "id": "4RoAer_khbU1",
        "outputId": "5ab02edf-f211-46cf-ec80-69dfaa40bcaf"
      },
      "outputs": [
        {
          "output_type": "stream",
          "name": "stdout",
          "text": [
            "Enter a number -20\n",
            "20\n"
          ]
        }
      ],
      "source": [
        "x=int(input(\"Enter a number \"))\n",
        "if x<0:\n",
        "  print(x*-1)\n",
        "else:\n",
        "  print(x)"
      ]
    },
    {
      "cell_type": "code",
      "source": [
        "x=int(input(\"Enter Marks\"))\n",
        "if x<25:\n",
        "  print(\"F\")\n",
        "elif x>25 and x<45:\n",
        "  print(\"E\")\n",
        "elif x>45 and x<50:\n",
        "  print(\"D\")\n",
        "elif x>50 and x<60:\n",
        "  print(\"C\")\n",
        "elif x>60 and x<80:\n",
        "  print(\"B\")\n",
        "elif x>80:\n",
        "  print(\"A\")"
      ],
      "metadata": {
        "colab": {
          "base_uri": "https://localhost:8080/"
        },
        "id": "s4G8pOeWjbMF",
        "outputId": "dc547779-d68f-487f-ed95-735728bc3f7a"
      },
      "execution_count": null,
      "outputs": [
        {
          "output_type": "stream",
          "name": "stdout",
          "text": [
            "Enter Marks51\n",
            "C\n"
          ]
        }
      ]
    },
    {
      "cell_type": "code",
      "source": [
        "x=int(input('Enter Classes Held'))\n",
        "y=int(input('Enter Classes Attended'))\n",
        "a=y*x/100\n",
        "n=75*100/100\n",
        "if a<n:\n",
        "  print(\"Not allowed to sit\")\n",
        "elif a>n:\n",
        "  print(\"You are allowed\")\n"
      ],
      "metadata": {
        "colab": {
          "base_uri": "https://localhost:8080/"
        },
        "id": "teKjTMQ_nG3Y",
        "outputId": "681affd9-a301-4988-c3c3-b95dcf781e8f"
      },
      "execution_count": null,
      "outputs": [
        {
          "output_type": "stream",
          "name": "stdout",
          "text": [
            "Enter Classes Held100\n",
            "Enter Classes Attended90\n",
            "You are allowed\n"
          ]
        }
      ]
    },
    {
      "cell_type": "code",
      "source": [
        "print(\"1. addition\")\n",
        "print(\"2. subtraction\")\n",
        "print(\"3. multiplication\")\n",
        "print(\"4. division\")\n",
        "print(\"5. moduls\")\n",
        "print(\"6. floor division\")\n",
        "print(\"7. exponent\")\n",
        "x=int(input(\"select a number\"))\n",
        "m1=int(input(\"enter a number\"))\n",
        "m2=int(input(\"enter a number\"))\n",
        "if x==1:\n",
        "  print(m1+m2)\n",
        "if x==2:\n",
        "  print(m1-m2)\n",
        "if x==3:\n",
        "  print(m1*m2)\n",
        "if x==4:\n",
        "  print(m1/m2)\n",
        "if x==5:\n",
        "  print(m1%m1)\n",
        "if x==6:\n",
        "  print(m1//m2)\n",
        "if x==7:\n",
        "  print(m1**m2)"
      ],
      "metadata": {
        "colab": {
          "base_uri": "https://localhost:8080/"
        },
        "id": "B6584-Rcp6k8",
        "outputId": "1bc61a09-6b7c-4504-91b5-317fb1d52b96"
      },
      "execution_count": null,
      "outputs": [
        {
          "output_type": "stream",
          "name": "stdout",
          "text": [
            "1. addition\n",
            "2. subtraction\n",
            "3. multiplication\n",
            "4. division\n",
            "5. moduls\n",
            "6. floor division\n",
            "7. exponent\n",
            "select a number3\n",
            "enter a number69\n",
            "enter a number420\n",
            "28980\n"
          ]
        }
      ]
    },
    {
      "cell_type": "code",
      "source": [
        "m1=int(input('Enter marks of first subject '))\n",
        "m2=int(input('Enter marks of second subject '))\n",
        "m3=int(input('Enter marks of third subject '))\n",
        "m4=int(input('Enter marks of fourth subject '))\n",
        "m5=int(input('Enter marks of fifth subject '))\n",
        "print('Least marks:',min(m1,m2,m3,m4,m5))\n",
        "print('Maximum marks:',max(m1,m2,m3,m4,m5))\n",
        "print('Average marks:',(m1+m2+m3+m4+m5/5))"
      ],
      "metadata": {
        "id": "c5gervShv7C-",
        "colab": {
          "base_uri": "https://localhost:8080/"
        },
        "outputId": "b5452fca-7891-466f-a4ef-ddc508499409"
      },
      "execution_count": 16,
      "outputs": [
        {
          "output_type": "stream",
          "name": "stdout",
          "text": [
            "Enter marks of first subject 90\n",
            "Enter marks of second subject 90\n",
            "Enter marks of third subject 90\n",
            "Enter marks of fourth subject 90\n",
            "Enter marks of fifth subject 90\n",
            "Least marks: 90\n",
            "Maximum marks: 90\n",
            "Average marks: 378.0\n"
          ]
        }
      ]
    },
    {
      "cell_type": "code",
      "source": [
        "909"
      ],
      "metadata": {
        "id": "VYbmcBF_uYWC"
      },
      "execution_count": null,
      "outputs": []
    }
  ]
}