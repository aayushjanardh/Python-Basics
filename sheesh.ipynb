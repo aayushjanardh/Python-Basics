{
  "nbformat": 4,
  "nbformat_minor": 0,
  "metadata": {
    "colab": {
      "provenance": [],
      "authorship_tag": "ABX9TyOHexPW804tO3pO5QlIBCmD",
      "include_colab_link": true
    },
    "kernelspec": {
      "name": "python3",
      "display_name": "Python 3"
    },
    "language_info": {
      "name": "python"
    }
  },
  "cells": [
    {
      "cell_type": "markdown",
      "metadata": {
        "id": "view-in-github",
        "colab_type": "text"
      },
      "source": [
        "<a href=\"https://colab.research.google.com/github/aayushjanardh/Python-Basics/blob/main/sheesh.ipynb\" target=\"_parent\"><img src=\"https://colab.research.google.com/assets/colab-badge.svg\" alt=\"Open In Colab\"/></a>"
      ]
    },
    {
      "cell_type": "code",
      "execution_count": null,
      "metadata": {
        "colab": {
          "base_uri": "https://localhost:8080/"
        },
        "id": "_c40BwAodznU",
        "outputId": "92046bbb-705d-4621-aef7-d2c9395dfd02"
      },
      "outputs": [
        {
          "name": "stdout",
          "output_type": "stream",
          "text": [
            "Enter you name? aayush\n",
            "Enter your number 56\n"
          ]
        }
      ],
      "source": [
        "x=input(\"Enter your name? \")\n",
        "y=int(input(\"Enter your number? \"))"
      ]
    },
    {
      "cell_type": "code",
      "source": [
        "m1= int(input('Enter your mark'))\n",
        "m2= int(input('Enter your mark'))\n",
        "m3= int(input('Enter your mark'))\n",
        "sum=m1+m2+m3\n",
        "print(sum)\n",
        "avg=sum/3\n",
        "print(avg)"
      ],
      "metadata": {
        "colab": {
          "base_uri": "https://localhost:8080/"
        },
        "id": "r9VtNLarhwHs",
        "outputId": "3b63069e-5af7-4451-9a77-c537eac43109"
      },
      "execution_count": null,
      "outputs": [
        {
          "output_type": "stream",
          "name": "stdout",
          "text": [
            "Enter your mark40\n",
            "Enter your mark40\n",
            "Enter your mark40\n",
            "120\n",
            "40.0\n"
          ]
        }
      ]
    },
    {
      "cell_type": "code",
      "source": [
        "n= int(input(\"Enter a number \"))\n",
        "m= int(input(\"enter a number \"))\n",
        "g= int(input(\"enter a number\"))\n",
        "if n>m and n>g:\n",
        "  print(\"the largest number\",n)\n",
        "if m>g and m>n:\n",
        "  print(\"the largest number\",m)\n",
        "if g>n and g>m:\n",
        "  print(\"the largest number\",g)\n"
      ],
      "metadata": {
        "colab": {
          "base_uri": "https://localhost:8080/"
        },
        "id": "_0Yh8jLkkgIU",
        "outputId": "9e11a6b2-6941-4bdc-bb8e-b4a30f2c0534"
      },
      "execution_count": null,
      "outputs": [
        {
          "output_type": "stream",
          "name": "stdout",
          "text": [
            "Enter a number 50\n",
            "enter a number 70\n",
            "enter a number60\n",
            "the largest number 70\n"
          ]
        }
      ]
    },
    {
      "cell_type": "code",
      "source": [
        "x= int(input(\"enter a number\"))\n",
        "if x%2==0:\n",
        "  print(\"x is even\")\n",
        "else:\n",
        "  print(\"x is odd\")"
      ],
      "metadata": {
        "colab": {
          "base_uri": "https://localhost:8080/"
        },
        "id": "kMpl0aiQl9Vy",
        "outputId": "481e21e5-b601-43ff-db5d-1261d552ab86"
      },
      "execution_count": null,
      "outputs": [
        {
          "output_type": "stream",
          "name": "stdout",
          "text": [
            "enter a number20\n",
            "x is even\n"
          ]
        }
      ]
    },
    {
      "cell_type": "code",
      "source": [
        "x= int(input(\"enter a number\"))\n",
        "y= int(input(\"enter a number\"))\n",
        "for i in range(x,y):\n",
        "  if i%2==0:\n",
        "    print(i,\"is even\")"
      ],
      "metadata": {
        "id": "qaNX0-d5u8jz",
        "outputId": "1ff414ef-03c2-4980-d8ed-1fa9888a1d26",
        "colab": {
          "base_uri": "https://localhost:8080/"
        }
      },
      "execution_count": 5,
      "outputs": [
        {
          "output_type": "stream",
          "name": "stdout",
          "text": [
            "enter a number1\n",
            "enter a number21\n",
            "2 is even\n",
            "4 is even\n",
            "6 is even\n",
            "8 is even\n",
            "10 is even\n",
            "12 is even\n",
            "14 is even\n",
            "16 is even\n",
            "18 is even\n",
            "20 is even\n"
          ]
        }
      ]
    },
    {
      "cell_type": "code",
      "source": [
        "x= int(input(\"enter a number \"))\n",
        "for i in range(1,11):\n",
        "  print(x*i)"
      ],
      "metadata": {
        "id": "Stp0awPIy3-Z",
        "outputId": "97eb4e45-4f90-488a-a47a-d707cc24674b",
        "colab": {
          "base_uri": "https://localhost:8080/"
        }
      },
      "execution_count": 10,
      "outputs": [
        {
          "output_type": "stream",
          "name": "stdout",
          "text": [
            "enter a number 27\n",
            "27\n",
            "54\n",
            "81\n",
            "108\n",
            "135\n",
            "162\n",
            "189\n",
            "216\n",
            "243\n",
            "270\n"
          ]
        }
      ]
    },
    {
      "cell_type": "code",
      "source": [],
      "metadata": {
        "id": "v4I7WKVO0vO3"
      },
      "execution_count": 8,
      "outputs": []
    }
  ]
}