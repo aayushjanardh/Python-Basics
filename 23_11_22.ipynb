{
  "nbformat": 4,
  "nbformat_minor": 0,
  "metadata": {
    "colab": {
      "provenance": [],
      "authorship_tag": "ABX9TyOLVMu0Rm7QcZjwB7akZlgI",
      "include_colab_link": true
    },
    "kernelspec": {
      "name": "python3",
      "display_name": "Python 3"
    },
    "language_info": {
      "name": "python"
    }
  },
  "cells": [
    {
      "cell_type": "markdown",
      "metadata": {
        "id": "view-in-github",
        "colab_type": "text"
      },
      "source": [
        "<a href=\"https://colab.research.google.com/github/aayushjanardh/Python-Basics/blob/main/23_11_22.ipynb\" target=\"_parent\"><img src=\"https://colab.research.google.com/assets/colab-badge.svg\" alt=\"Open In Colab\"/></a>"
      ]
    },
    {
      "cell_type": "code",
      "execution_count": 6,
      "metadata": {
        "colab": {
          "base_uri": "https://localhost:8080/"
        },
        "id": "W-a7b2YWmCLw",
        "outputId": "672340e0-c852-4ab7-f9d3-ca2e5797d943"
      },
      "outputs": [
        {
          "output_type": "stream",
          "name": "stdout",
          "text": [
            "Fifa World Cup 2022\n"
          ]
        }
      ],
      "source": [
        " def gg():\n",
        "  print(\"Fifa World Cup 2022\")\n",
        "gg()"
      ]
    },
    {
      "cell_type": "code",
      "source": [
        "def gg():\n",
        "  x=input(\"enter first name \")\n",
        "  y=input(\"enter second name \")\n",
        "  z=input(\"enter third name \")\n",
        "  print(x,y,z)\n",
        "gg()"
      ],
      "metadata": {
        "colab": {
          "base_uri": "https://localhost:8080/"
        },
        "id": "gL_VbGUSvZQr",
        "outputId": "7c0a7ec0-4d5e-4034-9a1e-bd6696148a46"
      },
      "execution_count": 7,
      "outputs": [
        {
          "output_type": "stream",
          "name": "stdout",
          "text": [
            "enter first name sagar\n",
            "enter second name elias\n",
            "enter third name jackey\n",
            "sagar elias jackey\n"
          ]
        }
      ]
    },
    {
      "cell_type": "code",
      "source": [
        "def gg():\n",
        "  x=input(\"enter first name \")\n",
        "  y=input(\"enter second name \")\n",
        "  z=input(\"enter third name \")\n",
        "  print(z,x,y)\n",
        "gg()"
      ],
      "metadata": {
        "colab": {
          "base_uri": "https://localhost:8080/"
        },
        "id": "VwuRBlyYxevp",
        "outputId": "2a1d8d1e-bf84-4803-a004-732c3bc12553"
      },
      "execution_count": 10,
      "outputs": [
        {
          "output_type": "stream",
          "name": "stdout",
          "text": [
            "enter first name sagar\n",
            "enter second name elias\n",
            "enter third name jackey\n",
            "jackey sagar elias\n"
          ]
        }
      ]
    },
    {
      "cell_type": "code",
      "source": [
        "def aay(country = \"Norway\"):\n",
        "  print(\"I am from \" + country)\n",
        "\n",
        "aay(\"India\")\n",
        "aay(\"Japan\")\n",
        "aay()"
      ],
      "metadata": {
        "colab": {
          "base_uri": "https://localhost:8080/"
        },
        "id": "Oyt6tf7cx4-e",
        "outputId": "b330de88-7c76-4b02-937d-2849718410d4"
      },
      "execution_count": 12,
      "outputs": [
        {
          "output_type": "stream",
          "name": "stdout",
          "text": [
            "I am from India\n",
            "I am from Japan\n",
            "I am from Norway\n"
          ]
        }
      ]
    },
    {
      "cell_type": "code",
      "source": [
        "def name(*x):\n",
        "  print('my favourate player is',chris[1])\n",
        "  print('my favourate player is',abi[2])\n",
        "chris=['messi','ronaldo','naymer']\n",
        "abi=['pepe','mbape','pele']\n",
        "name(chris)\n",
        "name(abi)"
      ],
      "metadata": {
        "colab": {
          "base_uri": "https://localhost:8080/"
        },
        "id": "5RbXnqSa1qA6",
        "outputId": "c7c75e94-50a3-45d0-f7de-1bd6230f0057"
      },
      "execution_count": 14,
      "outputs": [
        {
          "output_type": "stream",
          "name": "stdout",
          "text": [
            "my favourate player is ronaldo\n",
            "my favourate player is pele\n",
            "my favourate player is ronaldo\n",
            "my favourate player is pele\n"
          ]
        }
      ]
    },
    {
      "cell_type": "code",
      "source": [],
      "metadata": {
        "id": "2fOdZPW85vCy"
      },
      "execution_count": null,
      "outputs": []
    }
  ]
}